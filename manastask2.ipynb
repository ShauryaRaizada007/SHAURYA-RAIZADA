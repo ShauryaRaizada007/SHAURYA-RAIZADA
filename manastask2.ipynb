{
 "cells": [
  {
   "cell_type": "code",
   "execution_count": 2,
   "id": "9cbc40df-87f5-4adb-8afc-46fccc4ba103",
   "metadata": {},
   "outputs": [],
   "source": [
    "import numpy as np\n",
    "import pandas as pd\n",
    "import matplotlib.pyplot as plt"
   ]
  },
  {
   "cell_type": "code",
   "execution_count": 154,
   "id": "c7b69865-a724-4954-b431-e25807be2520",
   "metadata": {},
   "outputs": [],
   "source": [
    "df = pd.read_csv(\"C:\\\\Users\\\\HP\\\\Downloads\\\\Test.csv\")"
   ]
  },
  {
   "cell_type": "code",
   "execution_count": 155,
   "id": "1080a2f5-c226-4683-bd44-6f83fd99ea00",
   "metadata": {},
   "outputs": [
    {
     "data": {
      "text/html": [
       "<div>\n",
       "<style scoped>\n",
       "    .dataframe tbody tr th:only-of-type {\n",
       "        vertical-align: middle;\n",
       "    }\n",
       "\n",
       "    .dataframe tbody tr th {\n",
       "        vertical-align: top;\n",
       "    }\n",
       "\n",
       "    .dataframe thead th {\n",
       "        text-align: right;\n",
       "    }\n",
       "</style>\n",
       "<table border=\"1\" class=\"dataframe\">\n",
       "  <thead>\n",
       "    <tr style=\"text-align: right;\">\n",
       "      <th></th>\n",
       "      <th>Unnamed: 0</th>\n",
       "      <th>Name</th>\n",
       "      <th>Location</th>\n",
       "      <th>Year</th>\n",
       "      <th>Kilometers_Driven</th>\n",
       "      <th>Fuel_Type</th>\n",
       "      <th>Transmission</th>\n",
       "      <th>Owner_Type</th>\n",
       "      <th>Mileage</th>\n",
       "      <th>Engine</th>\n",
       "      <th>Power</th>\n",
       "      <th>Seats</th>\n",
       "      <th>Price</th>\n",
       "    </tr>\n",
       "  </thead>\n",
       "  <tbody>\n",
       "    <tr>\n",
       "      <th>0</th>\n",
       "      <td>0</td>\n",
       "      <td>Maruti Swift Dzire VDI</td>\n",
       "      <td>Hyderabad</td>\n",
       "      <td>2013</td>\n",
       "      <td>84175</td>\n",
       "      <td>Diesel</td>\n",
       "      <td>Manual</td>\n",
       "      <td>First</td>\n",
       "      <td>23.4 kmpl</td>\n",
       "      <td>1248 CC</td>\n",
       "      <td>74 bhp</td>\n",
       "      <td>5.0</td>\n",
       "      <td>6.95</td>\n",
       "    </tr>\n",
       "    <tr>\n",
       "      <th>1</th>\n",
       "      <td>1</td>\n",
       "      <td>Hyundai i10 Sportz AT</td>\n",
       "      <td>Delhi</td>\n",
       "      <td>2012</td>\n",
       "      <td>62282</td>\n",
       "      <td>Petrol</td>\n",
       "      <td>Automatic</td>\n",
       "      <td>First</td>\n",
       "      <td>16.95 kmpl</td>\n",
       "      <td>1197 CC</td>\n",
       "      <td>78.9 bhp</td>\n",
       "      <td>5.0</td>\n",
       "      <td>2.90</td>\n",
       "    </tr>\n",
       "    <tr>\n",
       "      <th>2</th>\n",
       "      <td>2</td>\n",
       "      <td>Hyundai Elite i20 Sportz Plus</td>\n",
       "      <td>Kochi</td>\n",
       "      <td>2017</td>\n",
       "      <td>37460</td>\n",
       "      <td>Petrol</td>\n",
       "      <td>Manual</td>\n",
       "      <td>First</td>\n",
       "      <td>18.6 kmpl</td>\n",
       "      <td>1197 CC</td>\n",
       "      <td>81.86 bhp</td>\n",
       "      <td>5.0</td>\n",
       "      <td>6.28</td>\n",
       "    </tr>\n",
       "    <tr>\n",
       "      <th>3</th>\n",
       "      <td>3</td>\n",
       "      <td>Volvo XC60 D5</td>\n",
       "      <td>Pune</td>\n",
       "      <td>2011</td>\n",
       "      <td>106976</td>\n",
       "      <td>Diesel</td>\n",
       "      <td>Automatic</td>\n",
       "      <td>First</td>\n",
       "      <td>13.5 kmpl</td>\n",
       "      <td>2400 CC</td>\n",
       "      <td>215 bhp</td>\n",
       "      <td>5.0</td>\n",
       "      <td>13.80</td>\n",
       "    </tr>\n",
       "    <tr>\n",
       "      <th>4</th>\n",
       "      <td>4</td>\n",
       "      <td>Hyundai i10 Magna 1.2</td>\n",
       "      <td>Delhi</td>\n",
       "      <td>2013</td>\n",
       "      <td>60000</td>\n",
       "      <td>Petrol</td>\n",
       "      <td>Manual</td>\n",
       "      <td>First</td>\n",
       "      <td>20.36 kmpl</td>\n",
       "      <td>1197 CC</td>\n",
       "      <td>78.9 bhp</td>\n",
       "      <td>5.0</td>\n",
       "      <td>2.75</td>\n",
       "    </tr>\n",
       "  </tbody>\n",
       "</table>\n",
       "</div>"
      ],
      "text/plain": [
       "   Unnamed: 0                           Name   Location  Year  \\\n",
       "0           0         Maruti Swift Dzire VDI  Hyderabad  2013   \n",
       "1           1          Hyundai i10 Sportz AT      Delhi  2012   \n",
       "2           2  Hyundai Elite i20 Sportz Plus      Kochi  2017   \n",
       "3           3                  Volvo XC60 D5       Pune  2011   \n",
       "4           4          Hyundai i10 Magna 1.2      Delhi  2013   \n",
       "\n",
       "   Kilometers_Driven Fuel_Type Transmission Owner_Type     Mileage   Engine  \\\n",
       "0              84175    Diesel       Manual      First   23.4 kmpl  1248 CC   \n",
       "1              62282    Petrol    Automatic      First  16.95 kmpl  1197 CC   \n",
       "2              37460    Petrol       Manual      First   18.6 kmpl  1197 CC   \n",
       "3             106976    Diesel    Automatic      First   13.5 kmpl  2400 CC   \n",
       "4              60000    Petrol       Manual      First  20.36 kmpl  1197 CC   \n",
       "\n",
       "       Power  Seats  Price  \n",
       "0     74 bhp    5.0   6.95  \n",
       "1   78.9 bhp    5.0   2.90  \n",
       "2  81.86 bhp    5.0   6.28  \n",
       "3    215 bhp    5.0  13.80  \n",
       "4   78.9 bhp    5.0   2.75  "
      ]
     },
     "execution_count": 155,
     "metadata": {},
     "output_type": "execute_result"
    }
   ],
   "source": [
    "df.head()"
   ]
  },
  {
   "cell_type": "code",
   "execution_count": 156,
   "id": "73a9b496-3305-44b8-aeb6-8f6731f0acd4",
   "metadata": {},
   "outputs": [],
   "source": [
    "df = df.drop(['Name', 'Unnamed: 0'], axis=1)"
   ]
  },
  {
   "cell_type": "code",
   "execution_count": 157,
   "id": "2870f2ad-edcb-498c-a215-6ba6b0fa3bb9",
   "metadata": {},
   "outputs": [
    {
     "data": {
      "text/plain": [
       "Index(['Location', 'Year', 'Kilometers_Driven', 'Fuel_Type', 'Transmission',\n",
       "       'Owner_Type', 'Mileage', 'Engine', 'Power', 'Seats', 'Price'],\n",
       "      dtype='object')"
      ]
     },
     "execution_count": 157,
     "metadata": {},
     "output_type": "execute_result"
    }
   ],
   "source": [
    "df.columns"
   ]
  },
  {
   "cell_type": "code",
   "execution_count": 158,
   "id": "3367cf7a-f14e-46c6-b7fa-cf5f8506551c",
   "metadata": {},
   "outputs": [
    {
     "name": "stdout",
     "output_type": "stream",
     "text": [
      "Mileage    1\n",
      "Engine     6\n",
      "Power      6\n",
      "Seats      7\n",
      "dtype: int64\n"
     ]
    }
   ],
   "source": [
    "null_counts = df.isnull().sum()\n",
    "print(null_counts[null_counts > 0])"
   ]
  },
  {
   "cell_type": "code",
   "execution_count": 160,
   "id": "42ba071b-7b17-4fa0-9aa5-1211ef9cdb1b",
   "metadata": {},
   "outputs": [],
   "source": [
    "df['Mileage'] = df['Mileage'].astype(str).str.replace(' kmpl', '').str.replace(' km/kg', '').astype(float)\n",
    "df['Engine'] = df['Engine'].astype(str).str.replace(\" CC\", \"\").astype(float)\n",
    "df['Power'] = df['Power'].astype(str).str.replace(\" bhp\", \"\").replace('null', np.nan).astype(float)"
   ]
  },
  {
   "cell_type": "code",
   "execution_count": 161,
   "id": "5e503b82-27c8-4d9b-8024-ba3515af9859",
   "metadata": {},
   "outputs": [],
   "source": [
    "df['Mileage'] = df['Mileage'].fillna(df['Mileage'].median())\n",
    "df['Engine'] = df['Engine'].fillna(df['Engine'].median())\n",
    "df['Power'] = df['Power'].fillna(df['Power'].median())\n",
    "df['Seats'] = df['Seats'].fillna(df['Seats'].median())"
   ]
  },
  {
   "cell_type": "code",
   "execution_count": 162,
   "id": "a3e99dce-1207-4fcd-9441-8744f4d6bdf6",
   "metadata": {},
   "outputs": [],
   "source": [
    "df_new = pd.get_dummies(df[['Fuel_Type', 'Transmission', 'Owner_Type', 'Location']], drop_first=True)"
   ]
  },
  {
   "cell_type": "code",
   "execution_count": 163,
   "id": "ca8e3fd9-3596-489c-bad1-e8d34d8a56c7",
   "metadata": {},
   "outputs": [],
   "source": [
    "feat = pd.concat([df[['Year', 'Kilometers_Driven', 'Mileage', 'Engine', 'Power', 'Seats']], df_new], axis=1)"
   ]
  },
  {
   "cell_type": "code",
   "execution_count": 164,
   "id": "70e7c0cb-498b-4ce8-8f53-b2b0f051c204",
   "metadata": {},
   "outputs": [],
   "source": [
    "tar = df['Price']"
   ]
  },
  {
   "cell_type": "code",
   "execution_count": 165,
   "id": "4a614bb2-55d5-472b-bb2e-4c7eaf6862c6",
   "metadata": {},
   "outputs": [
    {
     "data": {
      "text/html": [
       "<div>\n",
       "<style scoped>\n",
       "    .dataframe tbody tr th:only-of-type {\n",
       "        vertical-align: middle;\n",
       "    }\n",
       "\n",
       "    .dataframe tbody tr th {\n",
       "        vertical-align: top;\n",
       "    }\n",
       "\n",
       "    .dataframe thead th {\n",
       "        text-align: right;\n",
       "    }\n",
       "</style>\n",
       "<table border=\"1\" class=\"dataframe\">\n",
       "  <thead>\n",
       "    <tr style=\"text-align: right;\">\n",
       "      <th></th>\n",
       "      <th>Year</th>\n",
       "      <th>Kilometers_Driven</th>\n",
       "      <th>Mileage</th>\n",
       "      <th>Engine</th>\n",
       "      <th>Power</th>\n",
       "      <th>Seats</th>\n",
       "      <th>Fuel_Type_Electric</th>\n",
       "      <th>Fuel_Type_Petrol</th>\n",
       "      <th>Transmission_Manual</th>\n",
       "      <th>Owner_Type_Fourth &amp; Above</th>\n",
       "      <th>...</th>\n",
       "      <th>Location_Bangalore</th>\n",
       "      <th>Location_Chennai</th>\n",
       "      <th>Location_Coimbatore</th>\n",
       "      <th>Location_Delhi</th>\n",
       "      <th>Location_Hyderabad</th>\n",
       "      <th>Location_Jaipur</th>\n",
       "      <th>Location_Kochi</th>\n",
       "      <th>Location_Kolkata</th>\n",
       "      <th>Location_Mumbai</th>\n",
       "      <th>Location_Pune</th>\n",
       "    </tr>\n",
       "  </thead>\n",
       "  <tbody>\n",
       "    <tr>\n",
       "      <th>0</th>\n",
       "      <td>2013</td>\n",
       "      <td>84175</td>\n",
       "      <td>23.40</td>\n",
       "      <td>1248.0</td>\n",
       "      <td>74.00</td>\n",
       "      <td>5.0</td>\n",
       "      <td>False</td>\n",
       "      <td>False</td>\n",
       "      <td>True</td>\n",
       "      <td>False</td>\n",
       "      <td>...</td>\n",
       "      <td>False</td>\n",
       "      <td>False</td>\n",
       "      <td>False</td>\n",
       "      <td>False</td>\n",
       "      <td>True</td>\n",
       "      <td>False</td>\n",
       "      <td>False</td>\n",
       "      <td>False</td>\n",
       "      <td>False</td>\n",
       "      <td>False</td>\n",
       "    </tr>\n",
       "    <tr>\n",
       "      <th>1</th>\n",
       "      <td>2012</td>\n",
       "      <td>62282</td>\n",
       "      <td>16.95</td>\n",
       "      <td>1197.0</td>\n",
       "      <td>78.90</td>\n",
       "      <td>5.0</td>\n",
       "      <td>False</td>\n",
       "      <td>True</td>\n",
       "      <td>False</td>\n",
       "      <td>False</td>\n",
       "      <td>...</td>\n",
       "      <td>False</td>\n",
       "      <td>False</td>\n",
       "      <td>False</td>\n",
       "      <td>True</td>\n",
       "      <td>False</td>\n",
       "      <td>False</td>\n",
       "      <td>False</td>\n",
       "      <td>False</td>\n",
       "      <td>False</td>\n",
       "      <td>False</td>\n",
       "    </tr>\n",
       "    <tr>\n",
       "      <th>2</th>\n",
       "      <td>2017</td>\n",
       "      <td>37460</td>\n",
       "      <td>18.60</td>\n",
       "      <td>1197.0</td>\n",
       "      <td>81.86</td>\n",
       "      <td>5.0</td>\n",
       "      <td>False</td>\n",
       "      <td>True</td>\n",
       "      <td>True</td>\n",
       "      <td>False</td>\n",
       "      <td>...</td>\n",
       "      <td>False</td>\n",
       "      <td>False</td>\n",
       "      <td>False</td>\n",
       "      <td>False</td>\n",
       "      <td>False</td>\n",
       "      <td>False</td>\n",
       "      <td>True</td>\n",
       "      <td>False</td>\n",
       "      <td>False</td>\n",
       "      <td>False</td>\n",
       "    </tr>\n",
       "    <tr>\n",
       "      <th>3</th>\n",
       "      <td>2011</td>\n",
       "      <td>106976</td>\n",
       "      <td>13.50</td>\n",
       "      <td>2400.0</td>\n",
       "      <td>215.00</td>\n",
       "      <td>5.0</td>\n",
       "      <td>False</td>\n",
       "      <td>False</td>\n",
       "      <td>False</td>\n",
       "      <td>False</td>\n",
       "      <td>...</td>\n",
       "      <td>False</td>\n",
       "      <td>False</td>\n",
       "      <td>False</td>\n",
       "      <td>False</td>\n",
       "      <td>False</td>\n",
       "      <td>False</td>\n",
       "      <td>False</td>\n",
       "      <td>False</td>\n",
       "      <td>False</td>\n",
       "      <td>True</td>\n",
       "    </tr>\n",
       "    <tr>\n",
       "      <th>4</th>\n",
       "      <td>2013</td>\n",
       "      <td>60000</td>\n",
       "      <td>20.36</td>\n",
       "      <td>1197.0</td>\n",
       "      <td>78.90</td>\n",
       "      <td>5.0</td>\n",
       "      <td>False</td>\n",
       "      <td>True</td>\n",
       "      <td>True</td>\n",
       "      <td>False</td>\n",
       "      <td>...</td>\n",
       "      <td>False</td>\n",
       "      <td>False</td>\n",
       "      <td>False</td>\n",
       "      <td>True</td>\n",
       "      <td>False</td>\n",
       "      <td>False</td>\n",
       "      <td>False</td>\n",
       "      <td>False</td>\n",
       "      <td>False</td>\n",
       "      <td>False</td>\n",
       "    </tr>\n",
       "    <tr>\n",
       "      <th>...</th>\n",
       "      <td>...</td>\n",
       "      <td>...</td>\n",
       "      <td>...</td>\n",
       "      <td>...</td>\n",
       "      <td>...</td>\n",
       "      <td>...</td>\n",
       "      <td>...</td>\n",
       "      <td>...</td>\n",
       "      <td>...</td>\n",
       "      <td>...</td>\n",
       "      <td>...</td>\n",
       "      <td>...</td>\n",
       "      <td>...</td>\n",
       "      <td>...</td>\n",
       "      <td>...</td>\n",
       "      <td>...</td>\n",
       "      <td>...</td>\n",
       "      <td>...</td>\n",
       "      <td>...</td>\n",
       "      <td>...</td>\n",
       "      <td>...</td>\n",
       "    </tr>\n",
       "    <tr>\n",
       "      <th>1245</th>\n",
       "      <td>2013</td>\n",
       "      <td>71000</td>\n",
       "      <td>22.70</td>\n",
       "      <td>1582.0</td>\n",
       "      <td>126.20</td>\n",
       "      <td>5.0</td>\n",
       "      <td>False</td>\n",
       "      <td>False</td>\n",
       "      <td>False</td>\n",
       "      <td>False</td>\n",
       "      <td>...</td>\n",
       "      <td>False</td>\n",
       "      <td>False</td>\n",
       "      <td>False</td>\n",
       "      <td>True</td>\n",
       "      <td>False</td>\n",
       "      <td>False</td>\n",
       "      <td>False</td>\n",
       "      <td>False</td>\n",
       "      <td>False</td>\n",
       "      <td>False</td>\n",
       "    </tr>\n",
       "    <tr>\n",
       "      <th>1246</th>\n",
       "      <td>2005</td>\n",
       "      <td>91000</td>\n",
       "      <td>16.80</td>\n",
       "      <td>1341.0</td>\n",
       "      <td>83.00</td>\n",
       "      <td>5.0</td>\n",
       "      <td>False</td>\n",
       "      <td>True</td>\n",
       "      <td>True</td>\n",
       "      <td>False</td>\n",
       "      <td>...</td>\n",
       "      <td>False</td>\n",
       "      <td>False</td>\n",
       "      <td>False</td>\n",
       "      <td>False</td>\n",
       "      <td>False</td>\n",
       "      <td>False</td>\n",
       "      <td>False</td>\n",
       "      <td>False</td>\n",
       "      <td>False</td>\n",
       "      <td>True</td>\n",
       "    </tr>\n",
       "    <tr>\n",
       "      <th>1247</th>\n",
       "      <td>2017</td>\n",
       "      <td>50534</td>\n",
       "      <td>17.21</td>\n",
       "      <td>1197.0</td>\n",
       "      <td>103.50</td>\n",
       "      <td>5.0</td>\n",
       "      <td>False</td>\n",
       "      <td>True</td>\n",
       "      <td>False</td>\n",
       "      <td>False</td>\n",
       "      <td>...</td>\n",
       "      <td>False</td>\n",
       "      <td>False</td>\n",
       "      <td>True</td>\n",
       "      <td>False</td>\n",
       "      <td>False</td>\n",
       "      <td>False</td>\n",
       "      <td>False</td>\n",
       "      <td>False</td>\n",
       "      <td>False</td>\n",
       "      <td>False</td>\n",
       "    </tr>\n",
       "    <tr>\n",
       "      <th>1248</th>\n",
       "      <td>2012</td>\n",
       "      <td>83000</td>\n",
       "      <td>19.08</td>\n",
       "      <td>1582.0</td>\n",
       "      <td>126.32</td>\n",
       "      <td>5.0</td>\n",
       "      <td>False</td>\n",
       "      <td>False</td>\n",
       "      <td>False</td>\n",
       "      <td>False</td>\n",
       "      <td>...</td>\n",
       "      <td>False</td>\n",
       "      <td>False</td>\n",
       "      <td>False</td>\n",
       "      <td>False</td>\n",
       "      <td>False</td>\n",
       "      <td>False</td>\n",
       "      <td>False</td>\n",
       "      <td>False</td>\n",
       "      <td>False</td>\n",
       "      <td>True</td>\n",
       "    </tr>\n",
       "    <tr>\n",
       "      <th>1249</th>\n",
       "      <td>2019</td>\n",
       "      <td>13574</td>\n",
       "      <td>21.40</td>\n",
       "      <td>1197.0</td>\n",
       "      <td>83.10</td>\n",
       "      <td>5.0</td>\n",
       "      <td>False</td>\n",
       "      <td>True</td>\n",
       "      <td>False</td>\n",
       "      <td>False</td>\n",
       "      <td>...</td>\n",
       "      <td>False</td>\n",
       "      <td>False</td>\n",
       "      <td>False</td>\n",
       "      <td>False</td>\n",
       "      <td>False</td>\n",
       "      <td>False</td>\n",
       "      <td>True</td>\n",
       "      <td>False</td>\n",
       "      <td>False</td>\n",
       "      <td>False</td>\n",
       "    </tr>\n",
       "  </tbody>\n",
       "</table>\n",
       "<p>1250 rows × 22 columns</p>\n",
       "</div>"
      ],
      "text/plain": [
       "      Year  Kilometers_Driven  Mileage  Engine   Power  Seats  \\\n",
       "0     2013              84175    23.40  1248.0   74.00    5.0   \n",
       "1     2012              62282    16.95  1197.0   78.90    5.0   \n",
       "2     2017              37460    18.60  1197.0   81.86    5.0   \n",
       "3     2011             106976    13.50  2400.0  215.00    5.0   \n",
       "4     2013              60000    20.36  1197.0   78.90    5.0   \n",
       "...    ...                ...      ...     ...     ...    ...   \n",
       "1245  2013              71000    22.70  1582.0  126.20    5.0   \n",
       "1246  2005              91000    16.80  1341.0   83.00    5.0   \n",
       "1247  2017              50534    17.21  1197.0  103.50    5.0   \n",
       "1248  2012              83000    19.08  1582.0  126.32    5.0   \n",
       "1249  2019              13574    21.40  1197.0   83.10    5.0   \n",
       "\n",
       "      Fuel_Type_Electric  Fuel_Type_Petrol  Transmission_Manual  \\\n",
       "0                  False             False                 True   \n",
       "1                  False              True                False   \n",
       "2                  False              True                 True   \n",
       "3                  False             False                False   \n",
       "4                  False              True                 True   \n",
       "...                  ...               ...                  ...   \n",
       "1245               False             False                False   \n",
       "1246               False              True                 True   \n",
       "1247               False              True                False   \n",
       "1248               False             False                False   \n",
       "1249               False              True                False   \n",
       "\n",
       "      Owner_Type_Fourth & Above  ...  Location_Bangalore  Location_Chennai  \\\n",
       "0                         False  ...               False             False   \n",
       "1                         False  ...               False             False   \n",
       "2                         False  ...               False             False   \n",
       "3                         False  ...               False             False   \n",
       "4                         False  ...               False             False   \n",
       "...                         ...  ...                 ...               ...   \n",
       "1245                      False  ...               False             False   \n",
       "1246                      False  ...               False             False   \n",
       "1247                      False  ...               False             False   \n",
       "1248                      False  ...               False             False   \n",
       "1249                      False  ...               False             False   \n",
       "\n",
       "      Location_Coimbatore  Location_Delhi  Location_Hyderabad  \\\n",
       "0                   False           False                True   \n",
       "1                   False            True               False   \n",
       "2                   False           False               False   \n",
       "3                   False           False               False   \n",
       "4                   False            True               False   \n",
       "...                   ...             ...                 ...   \n",
       "1245                False            True               False   \n",
       "1246                False           False               False   \n",
       "1247                 True           False               False   \n",
       "1248                False           False               False   \n",
       "1249                False           False               False   \n",
       "\n",
       "      Location_Jaipur  Location_Kochi  Location_Kolkata  Location_Mumbai  \\\n",
       "0               False           False             False            False   \n",
       "1               False           False             False            False   \n",
       "2               False            True             False            False   \n",
       "3               False           False             False            False   \n",
       "4               False           False             False            False   \n",
       "...               ...             ...               ...              ...   \n",
       "1245            False           False             False            False   \n",
       "1246            False           False             False            False   \n",
       "1247            False           False             False            False   \n",
       "1248            False           False             False            False   \n",
       "1249            False            True             False            False   \n",
       "\n",
       "      Location_Pune  \n",
       "0             False  \n",
       "1             False  \n",
       "2             False  \n",
       "3              True  \n",
       "4             False  \n",
       "...             ...  \n",
       "1245          False  \n",
       "1246           True  \n",
       "1247          False  \n",
       "1248           True  \n",
       "1249          False  \n",
       "\n",
       "[1250 rows x 22 columns]"
      ]
     },
     "execution_count": 165,
     "metadata": {},
     "output_type": "execute_result"
    }
   ],
   "source": [
    "feat"
   ]
  },
  {
   "cell_type": "code",
   "execution_count": 166,
   "id": "590259a9-fd61-49e1-b2ce-f638d9c27e74",
   "metadata": {},
   "outputs": [
    {
     "data": {
      "text/plain": [
       "0        6.95\n",
       "1        2.90\n",
       "2        6.28\n",
       "3       13.80\n",
       "4        2.75\n",
       "        ...  \n",
       "1245     6.80\n",
       "1246     0.80\n",
       "1247     8.27\n",
       "1248     6.00\n",
       "1249     9.51\n",
       "Name: Price, Length: 1250, dtype: float64"
      ]
     },
     "execution_count": 166,
     "metadata": {},
     "output_type": "execute_result"
    }
   ],
   "source": [
    "tar"
   ]
  },
  {
   "cell_type": "code",
   "execution_count": 167,
   "id": "7d8eb342-b70a-483f-bedc-71d7c5d5db19",
   "metadata": {},
   "outputs": [],
   "source": [
    "feat = (feat - feat.mean()) / feat.std()"
   ]
  },
  {
   "cell_type": "code",
   "execution_count": 168,
   "id": "385b9e38-cdfa-43fc-b9d2-c6b16fb9a4b2",
   "metadata": {},
   "outputs": [],
   "source": [
    "x = feat.values\n",
    "y = tar.values.reshape(-1, 1)"
   ]
  },
  {
   "cell_type": "code",
   "execution_count": 169,
   "id": "918359f7-0705-4328-be14-6204ea0a8d80",
   "metadata": {},
   "outputs": [],
   "source": [
    "x = np.hstack([np.ones((x.shape[0], 1)), x])"
   ]
  },
  {
   "cell_type": "code",
   "execution_count": 170,
   "id": "0b917ee0-b21e-41e1-b2bf-c133e8fadcd6",
   "metadata": {},
   "outputs": [],
   "source": [
    "theta = np.random.randn(x.shape[1], 1)"
   ]
  },
  {
   "cell_type": "code",
   "execution_count": 172,
   "id": "494eb210-a65c-4030-95d5-1a8672a66d0d",
   "metadata": {},
   "outputs": [],
   "source": [
    "iterations = 1000\n",
    "alpha = 0.01"
   ]
  },
  {
   "cell_type": "code",
   "execution_count": 173,
   "id": "3f320955-0ec4-4bc5-a404-bd83193c1f78",
   "metadata": {},
   "outputs": [],
   "source": [
    "def computecost(x, y, theta):\n",
    "    m = len(y)\n",
    "    predict = x.dot(theta)\n",
    "    cost = (1 / (2 * m)) * np.sum(np.square(predict - y))\n",
    "    return cost"
   ]
  },
  {
   "cell_type": "code",
   "execution_count": 174,
   "id": "952099b0-bc13-482f-a350-a708523e7f3b",
   "metadata": {},
   "outputs": [],
   "source": [
    "def gradientdescent(x, y, theta, alpha, iterations):\n",
    "    m = len(y)\n",
    "    cost = []\n",
    "    for i in range(iterations):\n",
    "        gradients = (1 / m) * x.T.dot(x.dot(theta) - y)\n",
    "        theta -= alpha * gradients\n",
    "        cost.append(computecost(x, y, theta))\n",
    "    return theta, cost"
   ]
  },
  {
   "cell_type": "code",
   "execution_count": 175,
   "id": "b9513e8e-5616-4cf2-a8ba-2dab3744e473",
   "metadata": {},
   "outputs": [],
   "source": [
    "theta_new, cost = gradientdescent(x, y, theta, alpha, iterations)"
   ]
  },
  {
   "cell_type": "code",
   "execution_count": 176,
   "id": "766b7c7c-fd41-4057-b74d-10d139763d77",
   "metadata": {},
   "outputs": [
    {
     "data": {
      "text/plain": [
       "(array([[ 9.7718887 ],\n",
       "        [ 3.68405535],\n",
       "        [ 0.62737824],\n",
       "        [-0.9473489 ],\n",
       "        [ 1.93292849],\n",
       "        [ 4.82574529],\n",
       "        [-1.35553228],\n",
       "        [ 0.16915128],\n",
       "        [-1.15596295],\n",
       "        [-1.56164085],\n",
       "        [ 0.04408179],\n",
       "        [-0.35145078],\n",
       "        [ 0.35560625],\n",
       "        [ 0.50524195],\n",
       "        [ 0.29328822],\n",
       "        [ 0.51431126],\n",
       "        [-0.07339852],\n",
       "        [ 0.35076179],\n",
       "        [ 0.14518055],\n",
       "        [-0.31438907],\n",
       "        [-0.26268815],\n",
       "        [-0.21176323],\n",
       "        [ 0.01781263]]),\n",
       " np.float64(18.53867302757497))"
      ]
     },
     "execution_count": 176,
     "metadata": {},
     "output_type": "execute_result"
    }
   ],
   "source": [
    "theta_new, cost[-1]"
   ]
  },
  {
   "cell_type": "code",
   "execution_count": 177,
   "id": "9cac2c73-e438-45ce-b2c1-a4149ee44463",
   "metadata": {},
   "outputs": [],
   "source": [
    "def predict(x, theta):\n",
    "    pred=np.dot(x,theta)\n",
    "    return pred"
   ]
  },
  {
   "cell_type": "code",
   "execution_count": 178,
   "id": "b3d6d1af-1c9c-4768-b5e8-ec589e45b72c",
   "metadata": {},
   "outputs": [
    {
     "name": "stdout",
     "output_type": "stream",
     "text": [
      "(1250,) (23, 1)\n"
     ]
    }
   ],
   "source": [
    "print(tar.shape, theta_new.shape)"
   ]
  },
  {
   "cell_type": "code",
   "execution_count": 179,
   "id": "917a52f2-e6fe-4617-af07-646d6bddbe2a",
   "metadata": {},
   "outputs": [
    {
     "data": {
      "text/plain": [
       "array([[ 4.44525648],\n",
       "       [ 4.65164246],\n",
       "       [ 6.00572612],\n",
       "       ...,\n",
       "       [14.59383606],\n",
       "       [12.7326457 ],\n",
       "       [11.11816301]])"
      ]
     },
     "execution_count": 179,
     "metadata": {},
     "output_type": "execute_result"
    }
   ],
   "source": [
    "pred_cost=predict(x,theta)\n",
    "pred_cost"
   ]
  },
  {
   "cell_type": "code",
   "execution_count": 180,
   "id": "d7c52dca-e7ce-4332-a9e6-9b1d64efaad5",
   "metadata": {},
   "outputs": [],
   "source": [
    "pred_cost = pred_cost.reshape(-1)"
   ]
  },
  {
   "cell_type": "code",
   "execution_count": 181,
   "id": "25db8cab-ba8a-44ff-a57c-309047739e0b",
   "metadata": {},
   "outputs": [
    {
     "name": "stdout",
     "output_type": "stream",
     "text": [
      "(1250,)\n",
      "(1250,)\n"
     ]
    }
   ],
   "source": [
    "print(tar.shape)\n",
    "print(pred_cost.shape)"
   ]
  },
  {
   "cell_type": "code",
   "execution_count": 182,
   "id": "49b0d4da-9030-4197-94f8-d6abb2ef4462",
   "metadata": {},
   "outputs": [
    {
     "data": {
      "text/plain": [
       "np.float64(0.7009377350128324)"
      ]
     },
     "execution_count": 182,
     "metadata": {},
     "output_type": "execute_result"
    }
   ],
   "source": [
    "def rmse(tar,pred_cost):\n",
    "    rss=np.sum((tar-pred_cost)**2)\n",
    "    tss=np.sum((tar-pred_cost.mean())**2)\n",
    "    return 1-rss/tss\n",
    "outrmse=rmse(tar, pred_cost)\n",
    "outrmse"
   ]
  },
  {
   "cell_type": "code",
   "execution_count": 183,
   "id": "9434e4f0-c2b5-4981-8969-1c890f547f72",
   "metadata": {},
   "outputs": [
    {
     "data": {
      "image/png": "[encoded data removed]",
      "text/plain": [
       "<Figure size 1000x800 with 1 Axes>"
      ]
     },
     "metadata": {},
     "output_type": "display_data"
    }
   ],
   "source": [
    "fig_1, ax = plt.subplots(figsize=(10, 8))\n",
    "ax.plot(np.arange(iterations), cost, 'r')\n",
    "ax.set_xlabel('Iterations')\n",
    "ax.set_ylabel('Cost')\n",
    "ax.set_title('Iterations vs. Cost')\n",
    "plt.show()"
   ]
  }
 ],
 "metadata": {
  "kernelspec": {
   "display_name": "Python 3 (ipykernel)",
   "language": "python",
   "name": "python3"
  },
  "language_info": {
   "codemirror_mode": {
    "name": "ipython",
    "version": 3
   },
   "file_extension": ".py",
   "mimetype": "text/x-python",
   "name": "python",
   "nbconvert_exporter": "python",
   "pygments_lexer": "ipython3",
   "version": "3.12.5"
  }
 },
 "nbformat": 4,
 "nbformat_minor": 5
}
